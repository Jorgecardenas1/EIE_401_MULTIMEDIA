{
 "cells": [
  {
   "cell_type": "markdown",
   "id": "0a22500b-75f6-4e9e-bff8-e2166e04bd6a",
   "metadata": {},
   "source": [
    "<h1><center>\n",
    "\n",
    "</center></h1>\n",
    "<font size=\"6\"><center>\n",
    "EIE 401\n",
    "PROCESAMIENTO DIGITAL MULTIMEDIA \n",
    "</center></font>"
   ]
  },
  {
   "cell_type": "markdown",
   "id": "4bb821ab-49e9-40ef-8ecd-d491bba9452c",
   "metadata": {},
   "source": [
    "\n",
    "<center><h2>Actividad 3</h2></center>\n",
    "<center><h3>Fundamentos</h3></center>\n",
    "<center><h3>Profesor: Jorge Cardenas</h3></center>\n",
    "\n",
    "<center><h3>Por: _______</h3></center>\n",
    "<center><h5>Pontificia Universidad Catolica de Valparaiso</h5></center>\n",
    " "
   ]
  },
  {
   "cell_type": "markdown",
   "id": "c9edab54",
   "metadata": {},
   "source": [
    "## 1. Generar una imagen de una función trigronométrica (función bidimensional) \n",
    "### **Sinusoidal Gratings**\n",
    "\n",
    "<p align=\"justify\">\n",
    "En teoría, cualquier imagen puede ser reconstruida a partir de ondas senoidales. Es bueno entender como podemos generar una imagen que nos meustra una onda senoidal. \n"
   ]
  },
  {
   "cell_type": "code",
   "execution_count": null,
   "id": "b2fc7c23",
   "metadata": {},
   "outputs": [],
   "source": []
  },
  {
   "cell_type": "markdown",
   "id": "f0ce6546",
   "metadata": {},
   "source": [
    "## 2. Generar señales\n"
   ]
  },
  {
   "cell_type": "markdown",
   "id": "263e48d7",
   "metadata": {},
   "source": [
    "### 2. Genera una señal,\n",
    "$$ sinx+cos2x $$"
   ]
  },
  {
   "cell_type": "code",
   "execution_count": null,
   "id": "1f32f313",
   "metadata": {},
   "outputs": [],
   "source": []
  },
  {
   "cell_type": "markdown",
   "id": "b48d300d",
   "metadata": {},
   "source": [
    "### 2.2 Genera otra señal con ruido gaussiano añadido."
   ]
  },
  {
   "cell_type": "code",
   "execution_count": null,
   "id": "6eea1846",
   "metadata": {},
   "outputs": [],
   "source": []
  },
  {
   "cell_type": "markdown",
   "id": "668eaca7",
   "metadata": {},
   "source": [
    "## 3. Análisis en el dominio de Fourier\n",
    "<p align=\"justify\">\n",
    "A partir de las señales anteriores, aplica la transformada de Fourier.    \n"
   ]
  },
  {
   "cell_type": "markdown",
   "id": "34551801",
   "metadata": {},
   "source": [
    "### 2.1 Obtenga la transformada de Fourier para los casos anteriores\n"
   ]
  },
  {
   "cell_type": "code",
   "execution_count": null,
   "id": "29d0a6e6",
   "metadata": {},
   "outputs": [],
   "source": []
  },
  {
   "cell_type": "markdown",
   "id": "29503768",
   "metadata": {},
   "source": [
    "### 2.2 Obten un resultado Normalizado"
   ]
  },
  {
   "cell_type": "code",
   "execution_count": null,
   "id": "cc4bbf7b",
   "metadata": {},
   "outputs": [],
   "source": []
  },
  {
   "cell_type": "markdown",
   "id": "27bd37b6",
   "metadata": {},
   "source": [
    "### 2.3 Encuentra la transformada inversa de Fourier\n",
    "_solo para una señal_"
   ]
  },
  {
   "cell_type": "code",
   "execution_count": null,
   "id": "fae5f5b6",
   "metadata": {},
   "outputs": [],
   "source": []
  },
  {
   "cell_type": "markdown",
   "id": "01a83e63",
   "metadata": {},
   "source": [
    "### 2.4 Escriba un algoritmo para la Transformada Discreta de Fourier(DFT) y muéstrelo \n",
    "_solo para una señal_"
   ]
  },
  {
   "cell_type": "code",
   "execution_count": null,
   "id": "b595da0e",
   "metadata": {},
   "outputs": [],
   "source": []
  },
  {
   "cell_type": "markdown",
   "id": "cb086822",
   "metadata": {},
   "source": [
    "### 2.5 Explica tus hallazgos\n",
    "- Explica que diferencia hay entre los dos tipos de ruido generados y el efecto en la onda original.\n",
    "- Qué representan el resultado de la transformada de fourier para los casos que desarrollaste?"
   ]
  },
  {
   "cell_type": "code",
   "execution_count": null,
   "id": "09a4b4e2",
   "metadata": {},
   "outputs": [],
   "source": []
  },
  {
   "cell_type": "markdown",
   "id": "3add46e0-f5e2-4a20-8830-3e795f78d2a0",
   "metadata": {},
   "source": [
    "## 3. Referencias\n",
    "<p align=\"justify\">\n",
    "    \n",
    "\n",
    "\n",
    "[Sobre Teorema del sampleo]https://ipython-books.github.io/chapter-10-signal-processing/\n",
    "\n",
    "[Sobre Matplotlib] https://matplotlib.org/stable/gallery/mplot3d/2dcollections3d.html#sphx-glr-gallery-mplot3d-2dcollections3d-py\n",
    "\n",
    "[2D meshing]https://thepythoncodingbook.com/2021/08/30/2d-fourier-transform-in-python-and-fourier-synthesis-of-images/"
   ]
  },
  {
   "cell_type": "code",
   "execution_count": null,
   "id": "e92c4aa4-b5cb-4e20-96af-ab7d37ec4bc6",
   "metadata": {},
   "outputs": [],
   "source": []
  }
 ],
 "metadata": {
  "kernelspec": {
   "display_name": "Python 3 (ipykernel)",
   "language": "python",
   "name": "python3"
  },
  "language_info": {
   "codemirror_mode": {
    "name": "ipython",
    "version": 3
   },
   "file_extension": ".py",
   "mimetype": "text/x-python",
   "name": "python",
   "nbconvert_exporter": "python",
   "pygments_lexer": "ipython3",
   "version": "3.10.12"
  }
 },
 "nbformat": 4,
 "nbformat_minor": 5
}
