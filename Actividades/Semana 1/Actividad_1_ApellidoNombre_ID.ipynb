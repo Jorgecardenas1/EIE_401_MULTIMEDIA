{
 "cells": [
  {
   "cell_type": "markdown",
   "id": "0a22500b-75f6-4e9e-bff8-e2166e04bd6a",
   "metadata": {},
   "source": [
    "<h1><center>\n",
    "\n",
    "</center></h1>\n",
    "<font size=\"6\"><center>\n",
    "EIE 401\n",
    "PROCESAMIENTO DIGITAL MULTIMEDIA \n",
    "</center></font>"
   ]
  },
  {
   "cell_type": "markdown",
   "id": "4bb821ab-49e9-40ef-8ecd-d491bba9452c",
   "metadata": {},
   "source": [
    "\n",
    "<center><h2>Actividad 1</h2></center>\n",
    "<center><h3>Fundamentos</h3></center>\n",
    "<center><h3>Profesor: Jorge Cardenas</h3></center>\n",
    "\n",
    "<center><h3>Por: _______</h3></center>\n",
    "<center><h5>Pontificia Universidad Catolica de Valparaiso</h5></center>\n",
    " "
   ]
  },
  {
   "cell_type": "markdown",
   "id": "f0889ee3-d16b-49e3-be4b-a4c94f28701d",
   "metadata": {},
   "source": [
    "## 1. Crea tu perfil y un repositorio para las actividades del curso en Github\n",
    "<p align=\"justify\">\n",
    "Tanto en el mercado laboral como a nivel de investigación científica, se ha normalizado el uso de herramientas de desarrollo continuo (CI/CD), entre las que se cuenta a GitHub. \n",
    "\n",
    "<p align=\"justify\">\n",
    "Debes crear tu cuenta y primer repositorio en GitHub. \n",
    "\n",
    "El respositorio deberá tener un archivo README y subcarpetas para las actividades del semestre. Allí deberás alojar el archivo de Jupyter Notebook con el código y todos los recursos para la posterior revisión de tu trabajo.\n",
    "    \n",
    "Este medio será el canal de entrega de tus actividades cada semana, de tal forma que al final del curso debes tener un portafolio de tu trabajo para presentar a tus colegas o en la industria.\n",
    "    \n",
    "    "
   ]
  },
  {
   "cell_type": "code",
   "execution_count": null,
   "id": "d0ab6ee5-d7a3-4cf7-9aee-1d1a76b5525f",
   "metadata": {
    "tags": []
   },
   "outputs": [],
   "source": [
    "# Agrega tu usuario\n",
    "# Agrega el enlace al repositorio para tus trabajo"
   ]
  },
  {
   "cell_type": "markdown",
   "id": "539a0959",
   "metadata": {},
   "source": [
    "## 2. Define en python vectores y funciones\n",
    "<p align=\"justify\">\n",
    "Debes generar vectores que representan intervalos de tiempo o de una variable.\n",
    "Debes ingresar las funciones matemáticas y evaluarlas en los vectores generados.\n",
    "\n",
    "$$\n",
    "f(x) =  e^{-x^2} \n",
    "$$\n",
    "\n",
    "$$\n",
    "f(z) =  ysin(x) \n",
    "$$\n",
    "\n",
    "<p align=\"justify\">\n",
    "Haz una gráfica para cada uno de las funciones evaluadas.\n",
    "    \n",
    "    "
   ]
  },
  {
   "cell_type": "code",
   "execution_count": null,
   "id": "2a235207",
   "metadata": {},
   "outputs": [],
   "source": []
  },
  {
   "cell_type": "markdown",
   "id": "1fe77ca6",
   "metadata": {},
   "source": [
    "## 3. Ruido\n",
    "<p align=\"justify\">\n",
    "Crear una señal (senoidal, cosenoidal, etc) y demuestra la agregación de ruido.\n",
    "    \n"
   ]
  },
  {
   "cell_type": "markdown",
   "id": "add87b5c-726e-4894-96b0-d53ce6325382",
   "metadata": {},
   "source": [
    "### 3.1 Ruido Gaussiano\n",
    "Debes agregar la señal de ruido a la que creaste previamente. Adicionalmente, debes mostrar una gráfica con el resultado.\n"
   ]
  },
  {
   "cell_type": "code",
   "execution_count": null,
   "id": "c3288088-8f83-4ef2-95cf-98a86c5df29e",
   "metadata": {},
   "outputs": [],
   "source": []
  },
  {
   "cell_type": "markdown",
   "id": "1520d45b-31c0-482f-a7a7-fedf400965cd",
   "metadata": {},
   "source": [
    "### 3.2 Ruido Rosa\n",
    "Investiga en que consiste el ruido rosa, cual es la diferencia del ruido gaussiano y demuéstralo."
   ]
  },
  {
   "cell_type": "code",
   "execution_count": null,
   "id": "9603cb78-006d-468d-a97d-db0b810b713c",
   "metadata": {},
   "outputs": [],
   "source": []
  },
  {
   "cell_type": "markdown",
   "id": "3add46e0-f5e2-4a20-8830-3e795f78d2a0",
   "metadata": {},
   "source": [
    "## 4. Referencias\n",
    "<p align=\"justify\">\n",
    "    \n",
    "[Generate colors of noise in Python] https://stackoverflow.com/questions/67085963/generate-colors-of-noise-in-python\n",
    "\n",
    "[Generación de señales]https://medium.com/@martinkarlsson.io/fourier-transform-in-python-f15b3243ce9a\n",
    "\n",
    "[Fourier Transform]https://pythonnumericalmethods.berkeley.edu/notebooks/chapter24.04-FFT-in-Python.html\n",
    "\n",
    "[SciPy] https://docs.scipy.org/doc/scipy/tutorial/fft.html\n",
    "\n",
    "[Fourier con numpy] https://towardsdatascience.com/fourier-transform-the-practical-python-implementation-acdd32f1b96a"
   ]
  },
  {
   "cell_type": "code",
   "execution_count": null,
   "id": "e92c4aa4-b5cb-4e20-96af-ab7d37ec4bc6",
   "metadata": {},
   "outputs": [],
   "source": []
  }
 ],
 "metadata": {
  "kernelspec": {
   "display_name": "Python 3 (ipykernel)",
   "language": "python",
   "name": "python3"
  },
  "language_info": {
   "codemirror_mode": {
    "name": "ipython",
    "version": 3
   },
   "file_extension": ".py",
   "mimetype": "text/x-python",
   "name": "python",
   "nbconvert_exporter": "python",
   "pygments_lexer": "ipython3",
   "version": "3.10.12"
  }
 },
 "nbformat": 4,
 "nbformat_minor": 5
}
