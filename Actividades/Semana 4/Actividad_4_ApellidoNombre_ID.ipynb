{
 "cells": [
  {
   "cell_type": "markdown",
   "id": "0a22500b-75f6-4e9e-bff8-e2166e04bd6a",
   "metadata": {},
   "source": [
    "<h1><center>\n",
    "\n",
    "</center></h1>\n",
    "<font size=\"6\"><center>\n",
    "EIE 401\n",
    "PROCESAMIENTO DIGITAL MULTIMEDIA \n",
    "</center></font>"
   ]
  },
  {
   "cell_type": "markdown",
   "id": "4bb821ab-49e9-40ef-8ecd-d491bba9452c",
   "metadata": {},
   "source": [
    "\n",
    "<center><h2>Actividad 4</h2></center>\n",
    "<center><h3>Audio</h3></center>\n",
    "<center><h3>Profesor: Jorge Cardenas</h3></center>\n",
    "\n",
    "<center><h3>Por: _______</h3></center>\n",
    "<center><h5>Pontificia Universidad Catolica de Valparaiso</h5></center>\n",
    " "
   ]
  },
  {
   "cell_type": "markdown",
   "id": "28a477da",
   "metadata": {},
   "source": [
    "## 2. Cancelación de Ruido\n",
    "<p align=\"justify\">\n",
    "Implementa un algoritmo para eliminar el ruido de una señal.\n",
    "\n",
    "1. Debes tener la señal original\n",
    "2. Debes agregar ruido a la señal\n",
    "3. Obtener el valor medio de la señal con ruido\n",
    "4. Implementar transformaciones y filtrado.\n",
    "    \n"
   ]
  },
  {
   "cell_type": "markdown",
   "id": "129f5a57",
   "metadata": {},
   "source": [
    "### 2.1 Genera una señal con ruido gaussiano \n",
    "\n"
   ]
  },
  {
   "cell_type": "code",
   "execution_count": null,
   "id": "85a2f5e4",
   "metadata": {},
   "outputs": [],
   "source": []
  },
  {
   "cell_type": "markdown",
   "id": "3add46e0-f5e2-4a20-8830-3e795f78d2a0",
   "metadata": {},
   "source": [
    "## 4. Referencias\n",
    "<p align=\"justify\">\n",
    "    \n",
    "[Análisis espectral para audio] https://ccrma.stanford.edu/~jos/mdft/mdft-python.html\n",
    "\n",
    "[]"
   ]
  },
  {
   "cell_type": "code",
   "execution_count": null,
   "id": "e92c4aa4-b5cb-4e20-96af-ab7d37ec4bc6",
   "metadata": {},
   "outputs": [],
   "source": []
  }
 ],
 "metadata": {
  "kernelspec": {
   "display_name": "Python 3 (ipykernel)",
   "language": "python",
   "name": "python3"
  },
  "language_info": {
   "codemirror_mode": {
    "name": "ipython",
    "version": 3
   },
   "file_extension": ".py",
   "mimetype": "text/x-python",
   "name": "python",
   "nbconvert_exporter": "python",
   "pygments_lexer": "ipython3",
   "version": "3.10.12"
  }
 },
 "nbformat": 4,
 "nbformat_minor": 5
}
