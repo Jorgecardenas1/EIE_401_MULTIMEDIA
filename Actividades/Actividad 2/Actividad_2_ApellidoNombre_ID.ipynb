{
 "cells": [
  {
   "cell_type": "markdown",
   "id": "0a22500b-75f6-4e9e-bff8-e2166e04bd6a",
   "metadata": {},
   "source": [
    "<h1><center>\n",
    "\n",
    "</center></h1>\n",
    "<font size=\"6\"><center>\n",
    "EIE 401\n",
    "PROCESAMIENTO DIGITAL MULTIMEDIA \n",
    "</center></font>"
   ]
  },
  {
   "cell_type": "markdown",
   "id": "4bb821ab-49e9-40ef-8ecd-d491bba9452c",
   "metadata": {},
   "source": [
    "\n",
    "<center><h2>Actividad 2</h2></center>\n",
    "<center><h3>Fundamentos: Análisis espectral</h3></center>\n",
    "<center><h3>Profesor: Jorge Cardenas</h3></center>\n",
    "\n",
    "<center><h3>Por: _______</h3></center>\n",
    "<center><h5>Pontificia Universidad Catolica de Valparaiso</h5></center>\n",
    " "
   ]
  },
  {
   "cell_type": "markdown",
   "id": "caba8341",
   "metadata": {},
   "source": [
    "## 1. Carga archivos y carga datos en python\n",
    "<p align=\"justify\">\n",
    "Una de las tareas más importantes es la de cargar archivos que incluyan datos para el procesamiento.\n",
    "\n",
    "<p align=\"justify\">\n",
    "Debes cargar los dos archivos en formato txt y CSV, adquirir los datos y presentarlos en graficos usando la librería Matplotlib\n",
    "    \n",
    "    "
   ]
  },
  {
   "cell_type": "code",
   "execution_count": null,
   "id": "bd0d903a",
   "metadata": {},
   "outputs": [],
   "source": []
  },
  {
   "cell_type": "markdown",
   "id": "09408813",
   "metadata": {},
   "source": [
    "## 2. Señal\n",
    "<p align=\"justify\">\n",
    "Crea una señal continua (la suma de dos senoidales/cosenoidales, exponenciales) que utilizaras para las demostraciones siguientes. Presenta la función que usaste en una gráfica de tal forma que la ecuación esté incluida en dicha gráfica.\n",
    "\n",
    "Incluye la ecuación en una celda de tu notebook usando LATEX.\n"
   ]
  },
  {
   "cell_type": "code",
   "execution_count": null,
   "id": "4b093655",
   "metadata": {},
   "outputs": [],
   "source": []
  },
  {
   "cell_type": "markdown",
   "id": "b9e396eb-7409-47d6-a42a-1af7f8ec049f",
   "metadata": {
    "tags": []
   },
   "source": [
    "## 3. Sampleo\n",
    "<p align=\"justify\">\n",
    "En este punto debes comprobar como se da la operación de sampleo y que sucede ante cambios en el intervalo de sampleo.    \n"
   ]
  },
  {
   "cell_type": "markdown",
   "id": "b00e9d64",
   "metadata": {},
   "source": [
    "### 3.1 Crea una señal impulso (delta) y desplazala\n",
    "Para esto puedes usar alguna librería de python"
   ]
  },
  {
   "cell_type": "code",
   "execution_count": null,
   "id": "1b0084c9",
   "metadata": {},
   "outputs": [],
   "source": []
  },
  {
   "cell_type": "markdown",
   "id": "5dbf2458-b85a-4524-ab91-1462fef0cab2",
   "metadata": {},
   "source": [
    "### 3.2 Genere una señal Senoidal y realice la operación de sampleo\n",
    "Puedes utilizar el método \"stem\" de matplotlib para plotear el resultado."
   ]
  },
  {
   "cell_type": "code",
   "execution_count": null,
   "id": "28f30a1c",
   "metadata": {},
   "outputs": [],
   "source": []
  },
  {
   "cell_type": "markdown",
   "id": "0f0dfd79",
   "metadata": {},
   "source": [
    "### 3.3 Genere una señal Triangular y realice la operación de sampleo"
   ]
  },
  {
   "cell_type": "code",
   "execution_count": null,
   "id": "087476d2",
   "metadata": {},
   "outputs": [],
   "source": []
  },
  {
   "cell_type": "markdown",
   "id": "6e8fc991",
   "metadata": {},
   "source": [
    "### 3.4 Realice la operación de sampleo sobre la señal que generaste en el punto 2"
   ]
  },
  {
   "cell_type": "code",
   "execution_count": null,
   "id": "24e22008-2862-43e8-9219-d5920ee37fff",
   "metadata": {},
   "outputs": [],
   "source": []
  },
  {
   "cell_type": "markdown",
   "id": "1ea31cae-047d-4b09-91b2-ab627b90ede7",
   "metadata": {},
   "source": [
    "### 3.5 Compruebe el teorema de Nyquist\n",
    "Para comprobarlo, debes evaluar algunos casos:\n",
    "1. la frecuencia de sampleo _f_ es mayor que la frecuencia máxima de tu señal, Fmax.\n",
    "2. la frecuencia de sampleo _f_ es mayor que 2*Fmax.\n",
    "3. la frecuencia de sampleo _f_ es mayor que 5*Fmax. \n",
    "\n",
    "<p align=\"justify\">\n",
    "Debe graficar:\n",
    "\n",
    "1. la señal original.\n",
    "2. la señal sampleada.\n",
    "3. la señal reconstruida a partir del sampleo."
   ]
  },
  {
   "cell_type": "code",
   "execution_count": null,
   "id": "c84bb6f6",
   "metadata": {},
   "outputs": [],
   "source": []
  },
  {
   "cell_type": "code",
   "execution_count": null,
   "id": "c2ac5558",
   "metadata": {},
   "outputs": [],
   "source": []
  },
  {
   "cell_type": "code",
   "execution_count": null,
   "id": "77035a49",
   "metadata": {},
   "outputs": [],
   "source": []
  },
  {
   "cell_type": "markdown",
   "id": "9142f383-7a62-46e2-8e5d-b4fa2c41b121",
   "metadata": {},
   "source": [
    "### 3.6 Explica tus hallazgos"
   ]
  },
  {
   "cell_type": "code",
   "execution_count": null,
   "id": "020107fb-a697-42ce-b344-ec7abb8058ce",
   "metadata": {},
   "outputs": [],
   "source": []
  },
  {
   "cell_type": "markdown",
   "id": "3add46e0-f5e2-4a20-8830-3e795f78d2a0",
   "metadata": {},
   "source": [
    "## 4. Referencias\n",
    "<p align=\"justify\">\n",
    "    \n",
    "\n",
    "[Sobre Teorema del sampleo]https://ipython-books.github.io/chapter-10-signal-processing/\n",
    "\n",
    "[Sobre Matplotlib] https://matplotlib.org/stable/gallery/mplot3d/2dcollections3d.html#sphx-glr-gallery-mplot3d-2dcollections3d-py"
   ]
  },
  {
   "cell_type": "markdown",
   "id": "8e76c2e7",
   "metadata": {},
   "source": []
  }
 ],
 "metadata": {
  "kernelspec": {
   "display_name": "Python 3 (ipykernel)",
   "language": "python",
   "name": "python3"
  },
  "language_info": {
   "codemirror_mode": {
    "name": "ipython",
    "version": 3
   },
   "file_extension": ".py",
   "mimetype": "text/x-python",
   "name": "python",
   "nbconvert_exporter": "python",
   "pygments_lexer": "ipython3",
   "version": "3.10.12"
  }
 },
 "nbformat": 4,
 "nbformat_minor": 5
}
