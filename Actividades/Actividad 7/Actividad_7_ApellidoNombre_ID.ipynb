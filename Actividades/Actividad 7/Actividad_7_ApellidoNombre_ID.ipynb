{
 "cells": [
  {
   "cell_type": "markdown",
   "id": "0a22500b-75f6-4e9e-bff8-e2166e04bd6a",
   "metadata": {},
   "source": [
    "<h1><center>\n",
    "\n",
    "</center></h1>\n",
    "<font size=\"6\"><center>\n",
    "EIE 401\n",
    "PROCESAMIENTO DIGITAL MULTIMEDIA \n",
    "</center></font>"
   ]
  },
  {
   "cell_type": "markdown",
   "id": "4bb821ab-49e9-40ef-8ecd-d491bba9452c",
   "metadata": {},
   "source": [
    "\n",
    "<center><h2>Actividad 7</h2></center>\n",
    "<center><h3>Image</h3></center>\n",
    "<center><h3>Profesor: Jorge Cardenas</h3></center>\n",
    "\n",
    "<center><h3>Por: _______</h3></center>\n",
    "<center><h5>Pontificia Universidad Catolica de Valparaiso</h5></center>\n",
    " "
   ]
  },
  {
   "cell_type": "markdown",
   "id": "f0889ee3-d16b-49e3-be4b-a4c94f28701d",
   "metadata": {},
   "source": [
    "## 1. Operaciones usando Pytorch y OpenCV\n",
    "\n",
    "### 1.1 Instala Numpy, Pytorch y OpenCV: \n",
    "- Carga una imagen desde un archivo con extensión JPG, usando cada paquete.\n",
    "- Transforma la imagen de color a escala de grises.\n",
    "- Guarda la imagen nueva.\n",
    "- Presenta la imagen en el notebook.\n",
    "\n",
    "<p align=\"justify\">\n",
    "Asegurate de presentar adecuandamente la imagen, usando Matplotlib u otro medio de ploteo."
   ]
  },
  {
   "cell_type": "code",
   "execution_count": null,
   "id": "d0ab6ee5-d7a3-4cf7-9aee-1d1a76b5525f",
   "metadata": {
    "tags": []
   },
   "outputs": [],
   "source": []
  },
  {
   "cell_type": "markdown",
   "id": "28db8b8d",
   "metadata": {},
   "source": [
    "## 2. Multiples operaciones con tensores"
   ]
  },
  {
   "cell_type": "code",
   "execution_count": null,
   "id": "52188845",
   "metadata": {},
   "outputs": [],
   "source": []
  },
  {
   "cell_type": "markdown",
   "id": "eb8294e2",
   "metadata": {},
   "source": [
    "## 3. Realiza la inversión de una imagen\n",
    "\n",
    "### 3.1 Utilizando estrictamente numpy, usa una imagen binaria y realizar la inversión de dicha imagen.\n"
   ]
  },
  {
   "cell_type": "code",
   "execution_count": null,
   "id": "3cf800d9",
   "metadata": {},
   "outputs": [],
   "source": []
  },
  {
   "cell_type": "markdown",
   "id": "2c2d43d8",
   "metadata": {},
   "source": [
    "### 3.1 Usando Pytorch y opencv, realiza la inversión de la misma imagen.\n",
    "\n"
   ]
  },
  {
   "cell_type": "code",
   "execution_count": null,
   "id": "fdf35251",
   "metadata": {},
   "outputs": [],
   "source": []
  },
  {
   "cell_type": "markdown",
   "id": "c64b67c8",
   "metadata": {},
   "source": [
    "## 4. Segmentación de imagen\n",
    "### 4.1 Realiza un algoritmo para dividir una imagen con 3 canales RGB de 512x512 en parches de 16x16. Presenta cada parche generado de la imagen.\n",
    "El algoritmo debe tolerar el cambio de imagen por una de menor tamano (128, 64). claramente en cada caso el número de parches será menor. \n",
    "    "
   ]
  },
  {
   "cell_type": "code",
   "execution_count": null,
   "id": "eceb0add",
   "metadata": {},
   "outputs": [],
   "source": []
  },
  {
   "cell_type": "markdown",
   "id": "3add46e0-f5e2-4a20-8830-3e795f78d2a0",
   "metadata": {},
   "source": [
    "## 5. Referencias\n",
    "<p align=\"justify\">\n",
    "    \n",
    "[OpenCV] https://docs.opencv.org/4.x/d7/da8/tutorial_table_of_content_imgproc.html\n",
    "\n",
    "[inversion] https://medium.com/analytics-vidhya/inverting-an-image-using-numpys-broadcasting-method-1f5beb7f9fa5#:~:text=In%20order%20to%20invert%20the,negation)%20operation%20to%20the%20image.\n"
   ]
  },
  {
   "cell_type": "code",
   "execution_count": null,
   "id": "e92c4aa4-b5cb-4e20-96af-ab7d37ec4bc6",
   "metadata": {},
   "outputs": [],
   "source": []
  }
 ],
 "metadata": {
  "kernelspec": {
   "display_name": "Python 3 (ipykernel)",
   "language": "python",
   "name": "python3"
  },
  "language_info": {
   "codemirror_mode": {
    "name": "ipython",
    "version": 3
   },
   "file_extension": ".py",
   "mimetype": "text/x-python",
   "name": "python",
   "nbconvert_exporter": "python",
   "pygments_lexer": "ipython3",
   "version": "3.10.12"
  }
 },
 "nbformat": 4,
 "nbformat_minor": 5
}
