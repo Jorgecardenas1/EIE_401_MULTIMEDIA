{
 "cells": [
  {
   "cell_type": "markdown",
   "id": "0a22500b-75f6-4e9e-bff8-e2166e04bd6a",
   "metadata": {},
   "source": [
    "<h1><center>\n",
    "\n",
    "</center></h1>\n",
    "<font size=\"6\"><center>\n",
    "EIE 401\n",
    "PROCESAMIENTO DIGITAL MULTIMEDIA \n",
    "</center></font>"
   ]
  },
  {
   "cell_type": "markdown",
   "id": "4bb821ab-49e9-40ef-8ecd-d491bba9452c",
   "metadata": {},
   "source": [
    "\n",
    "<center><h2>Actividad 5</h2></center>\n",
    "<center><h3>Audio</h3></center>\n",
    "<center><h3>Profesor: Jorge Cardenas</h3></center>\n",
    "\n",
    "<center><h3>Por: _______</h3></center>\n",
    "<center><h5>Pontificia Universidad Catolica de Valparaiso</h5></center>\n",
    " "
   ]
  },
  {
   "cell_type": "markdown",
   "id": "f0889ee3-d16b-49e3-be4b-a4c94f28701d",
   "metadata": {},
   "source": [
    "## 1. Aplique la transformada rápida de fourier a una señal de audio\n",
    "<p align=\"justify\">\n",
    "El archivo de audio debe ser formato .WAV, con menos de 30 segundo de duración.\n"
   ]
  },
  {
   "cell_type": "code",
   "execution_count": null,
   "id": "d0ab6ee5-d7a3-4cf7-9aee-1d1a76b5525f",
   "metadata": {
    "tags": []
   },
   "outputs": [],
   "source": []
  },
  {
   "cell_type": "markdown",
   "id": "cf9f3f77-3425-494a-91f8-0a6c28eda5fe",
   "metadata": {
    "tags": []
   },
   "source": [
    "## 2. Ruido\n",
    "<p align=\"justify\">\n",
    "Crear una señal (senoidal, cosenoidal, etc) y demuestra la agregación de ruido.\n",
    "    \n"
   ]
  },
  {
   "cell_type": "markdown",
   "id": "add87b5c-726e-4894-96b0-d53ce6325382",
   "metadata": {},
   "source": [
    "### 2.1 Ruido Gaussiano\n",
    "\n"
   ]
  },
  {
   "cell_type": "code",
   "execution_count": null,
   "id": "c3288088-8f83-4ef2-95cf-98a86c5df29e",
   "metadata": {},
   "outputs": [],
   "source": []
  },
  {
   "cell_type": "markdown",
   "id": "1520d45b-31c0-482f-a7a7-fedf400965cd",
   "metadata": {},
   "source": [
    "### 2.2 Ruido Rosa"
   ]
  },
  {
   "cell_type": "code",
   "execution_count": null,
   "id": "9603cb78-006d-468d-a97d-db0b810b713c",
   "metadata": {},
   "outputs": [],
   "source": []
  },
  {
   "cell_type": "markdown",
   "id": "b9e396eb-7409-47d6-a42a-1af7f8ec049f",
   "metadata": {
    "tags": []
   },
   "source": [
    "## 3. Análisis en el dominio de Fourier\n",
    "<p align=\"justify\">\n",
    "Crear una señal (senoidal, cosenoidal, etc) y mostrar el efecto de la agregación de ruido.\n",
    "    \n"
   ]
  },
  {
   "cell_type": "markdown",
   "id": "5dbf2458-b85a-4524-ab91-1462fef0cab2",
   "metadata": {},
   "source": [
    "### 3.1 Obtenga la transformada de Fourier para los casos anteriores\n"
   ]
  },
  {
   "cell_type": "code",
   "execution_count": null,
   "id": "24e22008-2862-43e8-9219-d5920ee37fff",
   "metadata": {},
   "outputs": [],
   "source": []
  },
  {
   "cell_type": "markdown",
   "id": "1ea31cae-047d-4b09-91b2-ab627b90ede7",
   "metadata": {},
   "source": [
    "### 3.2 Utilice la transformada rápida de fourier desde una librería"
   ]
  },
  {
   "cell_type": "code",
   "execution_count": null,
   "id": "2665e19c-d120-478b-8dd7-0529788788c9",
   "metadata": {},
   "outputs": [],
   "source": []
  },
  {
   "cell_type": "code",
   "execution_count": null,
   "id": "4fe7f6a9-9ce5-4ef5-9a49-38189864aeca",
   "metadata": {},
   "outputs": [],
   "source": []
  },
  {
   "cell_type": "markdown",
   "id": "9142f383-7a62-46e2-8e5d-b4fa2c41b121",
   "metadata": {},
   "source": [
    "### 3.4 Explica tus hallazgos"
   ]
  },
  {
   "cell_type": "code",
   "execution_count": null,
   "id": "020107fb-a697-42ce-b344-ec7abb8058ce",
   "metadata": {},
   "outputs": [],
   "source": []
  },
  {
   "cell_type": "markdown",
   "id": "3add46e0-f5e2-4a20-8830-3e795f78d2a0",
   "metadata": {},
   "source": [
    "## 4. Referencias\n",
    "<p align=\"justify\">\n",
    "    \n",
    "[Análisis espectral para audio] https://ccrma.stanford.edu/~jos/mdft/mdft-python.html\n",
    "\n",
    "[]"
   ]
  },
  {
   "cell_type": "code",
   "execution_count": null,
   "id": "e92c4aa4-b5cb-4e20-96af-ab7d37ec4bc6",
   "metadata": {},
   "outputs": [],
   "source": []
  }
 ],
 "metadata": {
  "kernelspec": {
   "display_name": "Python 3 (ipykernel)",
   "language": "python",
   "name": "python3"
  },
  "language_info": {
   "codemirror_mode": {
    "name": "ipython",
    "version": 3
   },
   "file_extension": ".py",
   "mimetype": "text/x-python",
   "name": "python",
   "nbconvert_exporter": "python",
   "pygments_lexer": "ipython3",
   "version": "3.10.12"
  }
 },
 "nbformat": 4,
 "nbformat_minor": 5
}
