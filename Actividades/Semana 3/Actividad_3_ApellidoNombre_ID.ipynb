{
 "cells": [
  {
   "cell_type": "markdown",
   "id": "0a22500b-75f6-4e9e-bff8-e2166e04bd6a",
   "metadata": {},
   "source": [
    "<h1><center>\n",
    "\n",
    "</center></h1>\n",
    "<font size=\"6\"><center>\n",
    "EIE 401\n",
    "PROCESAMIENTO DIGITAL MULTIMEDIA \n",
    "</center></font>"
   ]
  },
  {
   "cell_type": "markdown",
   "id": "4bb821ab-49e9-40ef-8ecd-d491bba9452c",
   "metadata": {},
   "source": [
    "\n",
    "<center><h2>Actividad 3</h2></center>\n",
    "<center><h3>Fundamentos</h3></center>\n",
    "<center><h3>Profesor: Jorge Cardenas</h3></center>\n",
    "\n",
    "<center><h3>Por: _______</h3></center>\n",
    "<center><h5>Pontificia Universidad Catolica de Valparaiso</h5></center>\n",
    " "
   ]
  },
  {
   "cell_type": "code",
   "execution_count": null,
   "id": "c9edab54",
   "metadata": {},
   "outputs": [],
   "source": []
  },
  {
   "cell_type": "markdown",
   "id": "f0ce6546",
   "metadata": {},
   "source": [
    "## 1. Análisis en el dominio de Fourier\n"
   ]
  },
  {
   "cell_type": "code",
   "execution_count": null,
   "id": "1f32f313",
   "metadata": {},
   "outputs": [],
   "source": []
  },
  {
   "cell_type": "markdown",
   "id": "668eaca7",
   "metadata": {},
   "source": [
    "## 2. Análisis en el dominio de Fourier\n",
    "<p align=\"justify\">\n",
    "A partir de las señales anteriores, aplica la transformada de Fourier.    \n"
   ]
  },
  {
   "cell_type": "markdown",
   "id": "34551801",
   "metadata": {},
   "source": [
    "### 2.1 Obtenga la transformada de Fourier para los casos anteriores\n"
   ]
  },
  {
   "cell_type": "code",
   "execution_count": null,
   "id": "29d0a6e6",
   "metadata": {},
   "outputs": [],
   "source": []
  },
  {
   "cell_type": "markdown",
   "id": "29503768",
   "metadata": {},
   "source": [
    "### 2.2 Utilice la transformada rápida de fourier desde una librería"
   ]
  },
  {
   "cell_type": "code",
   "execution_count": null,
   "id": "cc4bbf7b",
   "metadata": {},
   "outputs": [],
   "source": []
  },
  {
   "cell_type": "markdown",
   "id": "cb086822",
   "metadata": {},
   "source": [
    "### 2.3 Explica tus hallazgos\n",
    "- Explica que diferencia hay entre los dos tipos de ruido generados y el efecto en la onda original.\n",
    "- Qué representan el resultado de la transformada de fourier para los casos que desarrollaste?"
   ]
  },
  {
   "cell_type": "code",
   "execution_count": null,
   "id": "09a4b4e2",
   "metadata": {},
   "outputs": [],
   "source": []
  },
  {
   "cell_type": "markdown",
   "id": "3add46e0-f5e2-4a20-8830-3e795f78d2a0",
   "metadata": {},
   "source": [
    "## 4. Referencias\n",
    "<p align=\"justify\">\n",
    "    \n",
    "[Cancelación de ruido en datos] https://towardsdatascience.com/noise-cancellation-with-python-and-fourier-transform-97303314aa71\n",
    "\n",
    "[Sobre Teorema del sampleo]https://ipython-books.github.io/chapter-10-signal-processing/\n",
    "\n",
    "[Sobre Matplotlib] https://matplotlib.org/stable/gallery/mplot3d/2dcollections3d.html#sphx-glr-gallery-mplot3d-2dcollections3d-py"
   ]
  },
  {
   "cell_type": "code",
   "execution_count": null,
   "id": "e92c4aa4-b5cb-4e20-96af-ab7d37ec4bc6",
   "metadata": {},
   "outputs": [],
   "source": []
  }
 ],
 "metadata": {
  "kernelspec": {
   "display_name": "Python 3 (ipykernel)",
   "language": "python",
   "name": "python3"
  },
  "language_info": {
   "codemirror_mode": {
    "name": "ipython",
    "version": 3
   },
   "file_extension": ".py",
   "mimetype": "text/x-python",
   "name": "python",
   "nbconvert_exporter": "python",
   "pygments_lexer": "ipython3",
   "version": "3.10.12"
  }
 },
 "nbformat": 4,
 "nbformat_minor": 5
}
