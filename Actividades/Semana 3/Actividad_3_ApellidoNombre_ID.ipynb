{
 "cells": [
  {
   "cell_type": "markdown",
   "id": "0a22500b-75f6-4e9e-bff8-e2166e04bd6a",
   "metadata": {},
   "source": [
    "<h1><center>\n",
    "\n",
    "</center></h1>\n",
    "<font size=\"6\"><center>\n",
    "EIE 401\n",
    "PROCESAMIENTO DIGITAL MULTIMEDIA \n",
    "</center></font>"
   ]
  },
  {
   "cell_type": "markdown",
   "id": "4bb821ab-49e9-40ef-8ecd-d491bba9452c",
   "metadata": {},
   "source": [
    "\n",
    "<center><h2>Actividad 2</h2></center>\n",
    "<center><h3>Fundamentos</h3></center>\n",
    "<center><h3>Profesor: Jorge Cardenas</h3></center>\n",
    "\n",
    "<center><h3>Por: _______</h3></center>\n",
    "<center><h5>Pontificia Universidad Catolica de Valparaiso</h5></center>\n",
    " "
   ]
  },
  {
   "cell_type": "markdown",
   "id": "b9e396eb-7409-47d6-a42a-1af7f8ec049f",
   "metadata": {
    "tags": []
   },
   "source": [
    "## 3. Sampleo\n",
    "<p align=\"justify\">\n",
    "En este punto debes comprobar como se da la operación de sampleo y que sucede ante cambios en el intervalo de sampleo.    \n"
   ]
  },
  {
   "cell_type": "markdown",
   "id": "5dbf2458-b85a-4524-ab91-1462fef0cab2",
   "metadata": {},
   "source": [
    "### 3.1 Genere una señal Senoidal y realice la operación de sampleo"
   ]
  },
  {
   "cell_type": "code",
   "execution_count": null,
   "id": "28f30a1c",
   "metadata": {},
   "outputs": [],
   "source": []
  },
  {
   "cell_type": "code",
   "execution_count": null,
   "id": "b0d7f596",
   "metadata": {},
   "outputs": [],
   "source": []
  },
  {
   "cell_type": "markdown",
   "id": "0f0dfd79",
   "metadata": {},
   "source": [
    "### 3.1 Genere una señal Triangular y realice la operación de sampleo"
   ]
  },
  {
   "cell_type": "code",
   "execution_count": null,
   "id": "24e22008-2862-43e8-9219-d5920ee37fff",
   "metadata": {},
   "outputs": [],
   "source": []
  },
  {
   "cell_type": "markdown",
   "id": "1ea31cae-047d-4b09-91b2-ab627b90ede7",
   "metadata": {},
   "source": [
    "### 3.3 Compruebe el teorema de Nyquist"
   ]
  },
  {
   "cell_type": "code",
   "execution_count": null,
   "id": "2665e19c-d120-478b-8dd7-0529788788c9",
   "metadata": {},
   "outputs": [],
   "source": []
  },
  {
   "cell_type": "code",
   "execution_count": null,
   "id": "4fe7f6a9-9ce5-4ef5-9a49-38189864aeca",
   "metadata": {},
   "outputs": [],
   "source": []
  },
  {
   "cell_type": "markdown",
   "id": "9142f383-7a62-46e2-8e5d-b4fa2c41b121",
   "metadata": {},
   "source": [
    "### 3.4 Explica tus hallazgos"
   ]
  },
  {
   "cell_type": "code",
   "execution_count": null,
   "id": "020107fb-a697-42ce-b344-ec7abb8058ce",
   "metadata": {},
   "outputs": [],
   "source": []
  },
  {
   "cell_type": "markdown",
   "id": "3add46e0-f5e2-4a20-8830-3e795f78d2a0",
   "metadata": {},
   "source": [
    "## 4. Referencias\n",
    "<p align=\"justify\">\n",
    "    \n",
    "[Cancelación de ruido en datos] https://towardsdatascience.com/noise-cancellation-with-python-and-fourier-transform-97303314aa71\n",
    "\n",
    "[Sobre Teorema del sampleo]https://ipython-books.github.io/chapter-10-signal-processing/\n",
    "\n",
    "[Sobre Matplotlib] https://matplotlib.org/stable/gallery/mplot3d/2dcollections3d.html#sphx-glr-gallery-mplot3d-2dcollections3d-py"
   ]
  },
  {
   "cell_type": "code",
   "execution_count": null,
   "id": "e92c4aa4-b5cb-4e20-96af-ab7d37ec4bc6",
   "metadata": {},
   "outputs": [],
   "source": []
  }
 ],
 "metadata": {
  "kernelspec": {
   "display_name": "Python 3 (ipykernel)",
   "language": "python",
   "name": "python3"
  },
  "language_info": {
   "codemirror_mode": {
    "name": "ipython",
    "version": 3
   },
   "file_extension": ".py",
   "mimetype": "text/x-python",
   "name": "python",
   "nbconvert_exporter": "python",
   "pygments_lexer": "ipython3",
   "version": "3.10.12"
  }
 },
 "nbformat": 4,
 "nbformat_minor": 5
}
